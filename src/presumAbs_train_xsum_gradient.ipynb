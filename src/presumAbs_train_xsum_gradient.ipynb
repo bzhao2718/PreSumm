{
 "nbformat": 4,
 "nbformat_minor": 0,
 "metadata": {
  "colab": {
   "name": "presumAbs_train_xsum.ipynb",
   "provenance": []
  },
  "kernelspec": {
   "name": "python3",
   "display_name": "Python 3"
  },
  "accelerator": "GPU"
 },
 "cells": [
  {
   "cell_type": "code",
   "execution_count": null,
   "outputs": [],
   "source": [
    "import torch\n",
    "import os\n"
   ],
   "metadata": {
    "collapsed": false,
    "pycharm": {
     "name": "#%%\n"
    }
   }
  },
  {
   "cell_type": "code",
   "execution_count": null,
   "outputs": [],
   "source": [
    "device = torch.device('cuda' if torch.cuda.is_available() else 'cpu')\n",
    "device"
   ],
   "metadata": {
    "collapsed": false,
    "pycharm": {
     "name": "#%%\n"
    }
   }
  },
  {
   "cell_type": "code",
   "execution_count": null,
   "outputs": [],
   "source": [
    "gpu_id = torch.cuda.current_device()\n",
    "gpu_id"
   ],
   "metadata": {
    "collapsed": false,
    "pycharm": {
     "name": "#%%\n"
    }
   }
  },
  {
   "cell_type": "code",
   "execution_count": null,
   "outputs": [],
   "source": [
    "gpu_info = !nvidia-smi\n",
    "gpu_info = '\\n'.join(gpu_info)\n",
    "if gpu_info.find('failed') >= 0:\n",
    "  print('Select the Runtime > \"Change runtime type\" menu to enable a GPU accelerator, ')\n",
    "  print('and then re-execute this cell.')\n",
    "else:\n",
    "  print(gpu_info)"
   ],
   "metadata": {
    "collapsed": false,
    "pycharm": {
     "name": "#%%\n"
    }
   }
  },
  {
   "cell_type": "code",
   "execution_count": null,
   "outputs": [],
   "source": [
    "from psutil import virtual_memory\n",
    "ram_gb = virtual_memory().total / 1e9\n",
    "print('Your runtime has {:.1f} gigabytes of available RAM\\n'.format(ram_gb))\n",
    "\n",
    "if ram_gb < 20:\n",
    "  print('To enable a high-RAM runtime, select the Runtime > \"Change runtime type\"')\n",
    "  print('menu, and then select High-RAM in the Runtime shape dropdown. Then, ')\n",
    "  print('re-execute this cell.')\n",
    "else:\n",
    "  print('You are using a high-RAM runtime!')"
   ],
   "metadata": {
    "collapsed": false,
    "pycharm": {
     "name": "#%%\n"
    }
   }
  },
  {
   "cell_type": "code",
   "execution_count": null,
   "outputs": [],
   "source": [
    "from google.colab import drive # mount the drive, so save the data to the Google drive\n",
    "drive.mount('/content/drive')"
   ],
   "metadata": {
    "collapsed": false,
    "pycharm": {
     "name": "#%%\n"
    }
   }
  },
  {
   "cell_type": "code",
   "execution_count": null,
   "outputs": [],
   "source": [
    "def create_dir(dir:str):\n",
    "  if not os.path.exists(dir):\n",
    "    os.makedirs(dir, exist_ok=True)\n",
    "\n",
    "def is_dir_exist(dir:str):\n",
    "  return os.path.exists(dir)"
   ],
   "metadata": {
    "collapsed": false,
    "pycharm": {
     "name": "#%%\n"
    }
   }
  },
  {
   "cell_type": "code",
   "execution_count": null,
   "outputs": [],
   "source": [
    "# cwd = os.getcwd()\n",
    "# print(cwd)\n",
    "def print_cwd():\n",
    "  cwd = os.getcwd()\n",
    "  print(cwd)"
   ],
   "metadata": {
    "collapsed": false,
    "pycharm": {
     "name": "#%%\n"
    }
   }
  },
  {
   "cell_type": "code",
   "execution_count": null,
   "outputs": [],
   "source": [
    "! ls\n"
   ],
   "metadata": {
    "collapsed": false,
    "pycharm": {
     "name": "#%%\n"
    }
   }
  },
  {
   "cell_type": "code",
   "execution_count": null,
   "outputs": [],
   "source": [
    "% cd drive/MyDrive/GoogleDrive/MyRepo/\n",
    "\n"
   ],
   "metadata": {
    "collapsed": false,
    "pycharm": {
     "name": "#%%\n"
    }
   }
  },
  {
   "cell_type": "code",
   "execution_count": null,
   "outputs": [],
   "source": [
    "print_cwd()"
   ],
   "metadata": {
    "collapsed": false,
    "pycharm": {
     "name": "#%%\n"
    }
   }
  },
  {
   "cell_type": "code",
   "execution_count": null,
   "outputs": [],
   "source": [
    "# import and install libs\n",
    "! pip install pytorch-transformers\n",
    "! pip install tensorboardX\n",
    "! pip install neptune-client"
   ],
   "metadata": {
    "collapsed": false,
    "pycharm": {
     "name": "#%%\n"
    }
   }
  },
  {
   "cell_type": "markdown",
   "source": [
    "# Only Run this section if running for the first time \n",
    "\n",
    "This section clones the code from my repo and set up the repo and related libs.\n",
    "This is saved in the MyRepo dir, so next time we can just mount Google Drive and reuse it, and no need to clone and configure it again."
   ],
   "metadata": {
    "collapsed": false
   }
  },
  {
   "cell_type": "code",
   "execution_count": null,
   "outputs": [],
   "source": [
    "git_presum=\"https://github.com/bzhao2718/PreSumm.git\""
   ],
   "metadata": {
    "collapsed": false,
    "pycharm": {
     "name": "#%%\n"
    }
   }
  },
  {
   "cell_type": "code",
   "execution_count": null,
   "outputs": [],
   "source": [
    "! git clone https://github.com/bzhao2718/PreSumm.git"
   ],
   "metadata": {
    "collapsed": false,
    "pycharm": {
     "name": "#%%\n"
    }
   }
  },
  {
   "cell_type": "code",
   "execution_count": null,
   "outputs": [],
   "source": [
    "% cd PreSumm/\n"
   ],
   "metadata": {
    "collapsed": false,
    "pycharm": {
     "name": "#%%\n"
    }
   }
  },
  {
   "cell_type": "code",
   "execution_count": null,
   "outputs": [],
   "source": [
    "! git status"
   ],
   "metadata": {
    "collapsed": false,
    "pycharm": {
     "name": "#%%\n"
    }
   }
  },
  {
   "cell_type": "code",
   "execution_count": null,
   "outputs": [],
   "source": [
    "! git checkout train_cli_from_master"
   ],
   "metadata": {
    "collapsed": false,
    "pycharm": {
     "name": "#%%\n"
    }
   }
  },
  {
   "cell_type": "code",
   "execution_count": null,
   "outputs": [],
   "source": [
    "! git status\n"
   ],
   "metadata": {
    "collapsed": false,
    "pycharm": {
     "name": "#%%\n"
    }
   }
  },
  {
   "cell_type": "code",
   "execution_count": null,
   "outputs": [],
   "source": [
    "% cd src/"
   ],
   "metadata": {
    "collapsed": false,
    "pycharm": {
     "name": "#%%\n"
    }
   }
  },
  {
   "cell_type": "code",
   "execution_count": null,
   "outputs": [],
   "source": [],
   "metadata": {
    "collapsed": false,
    "pycharm": {
     "name": "#%%\n"
    }
   }
  },
  {
   "cell_type": "code",
   "execution_count": null,
   "outputs": [],
   "source": [],
   "metadata": {
    "collapsed": false,
    "pycharm": {
     "name": "#%%\n"
    }
   }
  },
  {
   "cell_type": "code",
   "execution_count": null,
   "outputs": [],
   "source": [
    "! git clone https://github.com/bheinzerling/pyrouge"
   ],
   "metadata": {
    "collapsed": false,
    "pycharm": {
     "name": "#%%\n"
    }
   }
  },
  {
   "cell_type": "code",
   "execution_count": null,
   "outputs": [],
   "source": [
    "% cd pyrouge/\n"
   ],
   "metadata": {
    "collapsed": false,
    "pycharm": {
     "name": "#%%\n"
    }
   }
  },
  {
   "cell_type": "code",
   "execution_count": null,
   "outputs": [],
   "source": [
    "# cd pyrouge\n",
    "# python setup.py install\n",
    "# pyrouge_set_rouge_path /absolute/path/to/ROUGE-1.5.5/directory\n",
    "# python -m pyrouge.test\n",
    "\n",
    "# pyrouge_set_rouge_path /Users/jackz/python_venv/machine_learning/lib/python3.8/site-packages/pyrouge/"
   ],
   "metadata": {
    "collapsed": false,
    "pycharm": {
     "name": "#%%\n"
    }
   }
  },
  {
   "cell_type": "code",
   "execution_count": null,
   "outputs": [],
   "source": [
    "! python setup.py install"
   ],
   "metadata": {
    "collapsed": false,
    "pycharm": {
     "name": "#%%\n"
    }
   }
  },
  {
   "cell_type": "code",
   "execution_count": null,
   "outputs": [],
   "source": [
    "print_cwd()"
   ],
   "metadata": {
    "collapsed": false,
    "pycharm": {
     "name": "#%%\n"
    }
   }
  },
  {
   "cell_type": "code",
   "execution_count": null,
   "outputs": [],
   "source": [
    "# pyrouge_set_rouge_path /absolute/path/to/ROUGE-1.5.5/directory\n",
    "# /content/drive/MyDrive/GoogleDrive/MyRepo/PreSumm/src/pyrouge/pyrouge/Rouge155.py\n",
    "# python -m pyrouge.test"
   ],
   "metadata": {
    "collapsed": false,
    "pycharm": {
     "name": "#%%\n"
    }
   }
  },
  {
   "cell_type": "code",
   "execution_count": null,
   "outputs": [],
   "source": [
    "# ! build/scripts-3.6/pyrouge_set_rouge_path /content/drive/MyDrive/GoogleDrive/MyRepo/PreSumm/src/pyrouge/pyrouge/\n",
    "! git clone https://github.com/andersjo/pyrouge.git rouge"
   ],
   "metadata": {
    "collapsed": false,
    "pycharm": {
     "name": "#%%\n"
    }
   }
  },
  {
   "cell_type": "code",
   "execution_count": null,
   "outputs": [],
   "source": [
    "# also, copy files inside pyrouge/pyrouge to pyrouge"
   ],
   "metadata": {
    "collapsed": false,
    "pycharm": {
     "name": "#%%\n"
    }
   }
  },
  {
   "cell_type": "code",
   "execution_count": null,
   "outputs": [],
   "source": [
    "# set rouge pathto this /content/drive/MyDrive/GoogleDrive/MyRepo/PreSumm/src/pyrouge/rouge/tools/ROUGE-1.5.5\n",
    "! build/scripts-3.6/pyrouge_set_rouge_path /content/drive/MyDrive/GoogleDrive/MyRepo/PreSumm/src/pyrouge/rouge/tools/ROUGE-1.5.5"
   ],
   "metadata": {
    "collapsed": false,
    "pycharm": {
     "name": "#%%\n"
    }
   }
  },
  {
   "cell_type": "code",
   "execution_count": null,
   "outputs": [],
   "source": [
    "# % cd pyrouge/"
   ],
   "metadata": {
    "collapsed": false,
    "pycharm": {
     "name": "#%%\n"
    }
   }
  },
  {
   "cell_type": "code",
   "execution_count": null,
   "outputs": [],
   "source": [
    "# ! python -m test.py"
   ],
   "metadata": {
    "collapsed": false,
    "pycharm": {
     "name": "#%%\n"
    }
   }
  },
  {
   "cell_type": "markdown",
   "source": [
    "# Train and Evaluate the model\n"
   ],
   "metadata": {
    "collapsed": false
   }
  },
  {
   "cell_type": "code",
   "execution_count": null,
   "outputs": [],
   "source": [
    "# print_cwd()\n",
    "% cd /content/drive/MyDrive/GoogleDrive/MyRepo/PreSumm/src"
   ],
   "metadata": {
    "collapsed": false,
    "pycharm": {
     "name": "#%%\n"
    }
   }
  },
  {
   "cell_type": "code",
   "execution_count": null,
   "outputs": [],
   "source": [
    "# report and save every 5 step, CPU\n",
    "# ! python train.py  -task abs -mode train -bert_data_path ../bert_data/bert_data_xsum/xsum -dec_dropout 0.2  -model_path ../models/xsum -sep_optim true -lr_bert 0.002 -lr_dec 0.2 -save_checkpoint_steps 5 -batch_size 140 -train_steps 200000 -report_every 5 -accum_count 5 -use_bert_emb true -use_interval true -warmup_steps_bert 20000 -warmup_steps_dec 10000 -max_pos 512 -visible_gpus -1  -log_file ../logs/abs_bert_xsum\n",
    "\n",
    "# report every step and save every 2 steps, CPU\n",
    "# ! python train.py  -task abs -mode train -bert_data_path ../bert_data/bert_data_xsum/xsum -dec_dropout 0.2  -model_path ../models/xsum -sep_optim true -lr_bert 0.002 -lr_dec 0.2 -save_checkpoint_steps 2 -batch_size 140 -train_steps 200000 -report_every 1 -accum_count 5 -use_bert_emb true -use_interval true -warmup_steps_bert 20000 -warmup_steps_dec 10000 -max_pos 512 -visible_gpus -1  -log_file ../logs/abs_bert_xsum\n",
    "\n",
    "# train on gpu set --gpu 1\n",
    "# ! python train.py  -task abs -mode train -bert_data_path ../bert_data/bert_data_xsum/xsum -dec_dropout 0.2  -model_path ../models/xsum -sep_optim true -lr_bert 0.002 -lr_dec 0.2 -save_checkpoint_steps 2 -batch_size 140 -train_steps 200000 -report_every 1 -accum_count 5 -use_bert_emb true -use_interval true -warmup_steps_bert 20000 -warmup_steps_dec 10000 -max_pos 512 -visible_gpus 0  -log_file ../logs/abs_bert_xsum\n",
    "# report every 10, save every 100\n",
    "# ! python train.py  -task abs -mode train -bert_data_path ../bert_data/bert_data_xsum/xsum -dec_dropout 0.2  -model_path ../models/xsum -sep_optim true -lr_bert 0.002 -lr_dec 0.2 -save_checkpoint_steps 2 -batch_size 140 -train_steps 200000 -report_every 1 -accum_count 5 -use_bert_emb true -use_interval true -warmup_steps_bert 20000 -warmup_steps_dec 10000 -max_pos 512 -visible_gpus 0  -log_file ../logs/abs_bert_xsum\n",
    "\n",
    "# add this arg when training with checkpoint: -train_from ../models/xsum/model_step_10.pt"
   ],
   "metadata": {
    "collapsed": false,
    "pycharm": {
     "name": "#%%\n"
    }
   }
  },
  {
   "cell_type": "code",
   "execution_count": null,
   "outputs": [],
   "source": [
    "##### Train on CPU info\n",
    "\n",
    "# gpu_rank 0\n",
    "# [2020-12-29 01:46:00,515 INFO] * number of parameters: 180222522\n",
    "# [2020-12-29 01:46:00,515 INFO] Start training...\n",
    "# [2020-12-29 01:46:00,694 INFO] Loading train dataset from ../bert_data/bert_data_xsum/xsum.train.0.bert.pt, number of examples: 1992\n",
    "# [2020-12-29 01:47:41,411 INFO] Step  1/200000; acc:   0.00; ppl: 1524096.72; xent: 14.24; lr: 0.00000000;   0/  6 tok/s;    101 sec\n",
    "# [2020-12-29 01:49:48,342 INFO] Step  2/200000; acc:   0.00; ppl: 1418038.95; xent: 14.16; lr: 0.00000000;   0/  5 tok/s;    228 sec\n",
    "# [2020-12-29 01:49:48,347 INFO] Saving checkpoint ../models/xsum/model_step_2.pt\n",
    "# [2020-12-29 01:51:52,566 INFO] Step  3/200000; acc:   0.00; ppl: 1482874.67; xent: 14.21; lr: 0.00000000;   0/  5 tok/s;    352 sec\n",
    "# [2020-12-29 01:53:31,583 INFO] Step  4/200000; acc:   0.00; ppl: 1225944.60; xent: 14.02; lr: 0.00000000;   0/  7 tok/s;    451 sec\n",
    "# [2020-12-29 01:53:31,588 INFO] Saving checkpoint ../models/xsum/model_step_4.pt"
   ],
   "metadata": {
    "collapsed": false,
    "pycharm": {
     "name": "#%%\n"
    }
   }
  },
  {
   "cell_type": "code",
   "execution_count": null,
   "outputs": [],
   "source": [
    "# Train on GPU info\n",
    "# looks like it's the colab default gpu, but still, great speed boost\n",
    "\n",
    "# gpu_rank 0\n",
    "# [2020-12-29 02:38:40,604 INFO] * number of parameters: 180222522\n",
    "# [2020-12-29 02:38:40,605 INFO] Start training...\n",
    "# [2020-12-29 02:38:40,838 INFO] Loading train dataset from ../bert_data/bert_data_xsum/xsum.train.0.bert.pt, number of examples: 1992\n",
    "# [2020-12-29 02:39:02,110 INFO] Step 10/200000; acc:   0.00; ppl: 1229632.24; xent: 14.02; lr: 0.00000001;   0/273 tok/s;     21 sec\n",
    "# [2020-12-29 02:39:24,211 INFO] Step 20/200000; acc:   0.00; ppl: 887847.83; xent: 13.70; lr: 0.00000001;   0/289 tok/s;     43 sec\n",
    "# [2020-12-29 02:39:45,572 INFO] Step 30/200000; acc:   0.00; ppl: 221971.90; xent: 12.31; lr: 0.00000002;   0/318 tok/s;     65 sec\n",
    "# [2020-12-29 02:40:07,493 INFO] Step 40/200000; acc:   0.00; ppl: 43512.79; xent: 10.68; lr: 0.00000003;   0/238 tok/s;     87 sec\n",
    "# [2020-12-29 02:40:31,062 INFO] Step 50/200000; acc:   0.00; ppl: 12176.12; xent: 9.41; lr: 0.00000004;   0/260 tok/s;    110 sec\n",
    "\n"
   ],
   "metadata": {
    "collapsed": false,
    "pycharm": {
     "name": "#%%\n"
    }
   }
  },
  {
   "cell_type": "code",
   "execution_count": null,
   "outputs": [],
   "source": [
    "! git branch\n",
    "\n",
    "# ! ls"
   ],
   "metadata": {
    "collapsed": false,
    "pycharm": {
     "name": "#%%\n"
    }
   }
  },
  {
   "cell_type": "code",
   "execution_count": null,
   "outputs": [],
   "source": [
    "# # train save checkpoint every 400, log stats params and print out every 100 steps\n",
    "# # The first time running\n",
    "# ! python train.py  -task abs -mode train -bert_data_path ../bert_data/bert_data_xsum/xsum -dec_dropout 0.2  -model_path ../models/xsum -sep_optim true -lr_bert 0.002 -lr_dec 0.2 -save_checkpoint_steps 400 -batch_size 140 -train_steps 200000 -report_every 100 -log_stat_params 100 -accum_count 5 -use_bert_emb true -use_interval true -warmup_steps_bert 20000 -warmup_steps_dec 10000 -max_pos 512 -visible_gpus 0  -log_file ../logs/abs_bert_xsum\n"
   ],
   "metadata": {
    "collapsed": false,
    "pycharm": {
     "name": "#%%\n"
    }
   }
  },
  {
   "cell_type": "code",
   "execution_count": null,
   "outputs": [],
   "source": [
    "# this is a test neptune log\n",
    "# ! python train.py  -task abs -mode train -bert_data_path ../bert_data/bert_data_xsum/xsum -dec_dropout 0.2  -model_path ../models/xsum -sep_optim true -lr_bert 0.002 -lr_dec 0.2 -save_checkpoint_steps 20 -batch_size 140 -train_steps 200000 -report_every 1 -accum_count 5 -use_bert_emb true -use_interval true -warmup_steps_bert 20000 -warmup_steps_dec 10000 -max_pos 512 -visible_gpus -1  -log_file ../logs/abs_bert_xsum\n",
    "    "
   ],
   "metadata": {
    "collapsed": false,
    "pycharm": {
     "name": "#%%\n"
    }
   }
  },
  {
   "cell_type": "code",
   "execution_count": null,
   "outputs": [],
   "source": [
    "# train save checkpoint every 400, log stats params and print out every 100 steps\n",
    "# Second time running, use the saved checkpoint 400\n",
    "! python train.py  -task abs -mode train -bert_data_path ../bert_data/bert_data_xsum/xsum -dec_dropout 0.2 -train_from ../models/xsum/model_step_400.pt -model_path ../models/xsum -sep_optim true -lr_bert 0.002 -lr_dec 0.2 -save_checkpoint_steps 3000 -batch_size 140 -train_steps 200000 -report_every 500 -log_stat_params 1000 -accum_count 5 -use_bert_emb true -use_interval true -warmup_steps_bert 20000 -warmup_steps_dec 10000 -max_pos 512 -visible_gpus 0  -log_file ../logs/abs_bert_xsum\n",
    "# /content/drive/MyDrive/GoogleDrive/MyRepo/PreSumm/models/xsum/model_step_400.pt"
   ],
   "metadata": {
    "collapsed": false,
    "pycharm": {
     "name": "#%%\n"
    }
   }
  },
  {
   "cell_type": "code",
   "execution_count": null,
   "outputs": [],
   "source": [
    "# gpu_rank 0\n",
    "# [2020-12-29 07:29:49,117 INFO] * number of parameters: 180222522\n",
    "# [2020-12-29 07:29:49,118 INFO] Start training...\n",
    "# [2020-12-29 07:29:49,414 INFO] Loading train dataset from ../bert_data/bert_data_xsum/xsum.train.88.bert.pt, number of examples: 1988\n",
    "# [2020-12-29 07:33:30,035 INFO] Loading train dataset from ../bert_data/bert_data_xsum/xsum.train.99.bert.pt, number of examples: 1991\n",
    "# [2020-12-29 07:33:46,898 INFO] Step 500/200000; acc:  21.43; ppl: 128.81; xent: 4.86; lr: 0.00000035;   0/210 tok/s;    237 sec\n",
    "# [2020-12-29 07:37:12,537 INFO] Loading train dataset from ../bert_data/bert_data_xsum/xsum.train.53.bert.pt, number of examples: 1990\n",
    "# [2020-12-29 07:41:00,296 INFO] Loading train dataset from ../bert_data/bert_data_xsum/xsum.train.39.bert.pt, number of examples: 1992\n",
    "# [2020-12-29 07:44:46,481 INFO] Loading train dataset from ../bert_data/bert_data_xsum/xsum.train.27.bert.pt, number of examples: 1986\n",
    "# [2020-12-29 07:48:32,330 INFO] Loading train dataset from ../bert_data/bert_data_xsum/xsum.train.100.bert.pt, number of examples: 1992\n",
    "# [2020-12-29 07:52:20,965 INFO] Loading train dataset from ../bert_data/bert_data_xsum/xsum.train.22.bert.pt, number of examples: 1992\n",
    "# [2020-12-29 07:54:09,141 INFO] Step 1000/200000; acc:  22.36; ppl: 75.88; xent: 4.33; lr: 0.00000071;   0/236 tok/s;   1460 sec\n",
    "# [2020-12-29 07:56:13,311 INFO] Loading train dataset from ../bert_data/bert_data_xsum/xsum.train.43.bert.pt, number of examples: 1992\n",
    "# [2020-12-29 08:00:00,660 INFO] Loading train dataset from ../bert_data/bert_data_xsum/xsum.train.101.bert.pt, number of examples: 1939\n",
    "# [2020-12-29 08:03:38,958 INFO] Loading train dataset from ../bert_data/bert_data_xsum/xsum.train.15.bert.pt, number of examples: 1987\n",
    "# [2020-12-29 08:07:20,986 INFO] Loading train dataset from ../bert_data/bert_data_xsum/xsum.train.62.bert.pt, number of examples: 1993\n",
    "# [2020-12-29 08:11:07,907 INFO] Loading train dataset from ../bert_data/bert_data_xsum/xsum.train.46.bert.pt, number of examples: 1994\n",
    "# [2020-12-29 08:14:17,876 INFO] Step 1500/200000; acc:  28.21; ppl: 47.16; xent: 3.85; lr: 0.00000106;   0/246 tok/s;   2668 sec\n",
    "# [2020-12-29 08:14:55,095 INFO] Loading train dataset from ../bert_data/bert_data_xsum/xsum.train.14.bert.pt, number of examples: 1988\n",
    "# [2020-12-29 08:18:41,712 INFO] Loading train dataset from ../bert_data/bert_data_xsum/xsum.train.95.bert.pt, number of examples: 1994\n",
    "# [2020-12-29 08:22:25,608 INFO] Loading train dataset from ../bert_data/bert_data_xsum/xsum.train.25.bert.pt, number of examples: 1992\n",
    "# [2020-12-29 08:26:12,573 INFO] Loading train dataset from ../bert_data/bert_data_xsum/xsum.train.61.bert.pt, number of examples: 1992\n",
    "# [2020-12-29 08:29:59,182 INFO] Loading train dataset from ../bert_data/bert_data_xsum/xsum.train.64.bert.pt, number of examples: 1987\n",
    "# [2020-12-29 08:33:41,947 INFO] Loading train dataset from ../bert_data/bert_data_xsum/xsum.train.78.bert.pt, number of examples: 1987\n",
    "# [2020-12-29 08:34:38,215 INFO] Step 2000/200000; acc:  35.74; ppl: 28.81; xent: 3.36; lr: 0.00000141;   0/298 tok/s;   3889 sec\n",
    "# [2020-12-29 08:37:28,528 INFO] Loading train dataset from ../bert_data/bert_data_xsum/xsum.train.37.bert.pt, number of examples: 1983\n",
    "# [2020-12-29 08:41:14,129 INFO] Loading train dataset from ../bert_data/bert_data_xsum/xsum.train.3.bert.pt, number of examples: 1993\n",
    "# [2020-12-29 08:45:03,544 INFO] Loading train dataset from ../bert_data/bert_data_xsum/xsum.train.44.bert.pt, number of examples: 1987\n",
    "# [2020-12-29 08:48:49,972 INFO] Loading train dataset from ../bert_data/bert_data_xsum/xsum.train.77.bert.pt, number of examples: 1991\n",
    "# [2020-12-29 08:52:39,893 INFO] Loading train dataset from ../bert_data/bert_data_xsum/xsum.train.47.bert.pt, number of examples: 1988\n",
    "# [2020-12-29 08:54:56,747 INFO] Step 2500/200000; acc:  29.57; ppl: 49.96; xent: 3.91; lr: 0.00000177;   0/229 tok/s;   5107 sec\n",
    "# [2020-12-29 08:56:22,193 INFO] Loading train dataset from ../bert_data/bert_data_xsum/xsum.train.72.bert.pt, number of examples: 1992\n",
    "# [2020-12-29 09:00:08,042 INFO] Loading train dataset from ../bert_data/bert_data_xsum/xsum.train.40.bert.pt, number of examples: 1990\n",
    "# [2020-12-29 09:03:54,064 INFO] Loading train dataset from ../bert_data/bert_data_xsum/xsum.train.52.bert.pt, number of examples: 1989\n",
    "# [2020-12-29 09:07:43,291 INFO] Loading train dataset from ../bert_data/bert_data_xsum/xsum.train.81.bert.pt, number of examples: 1995\n",
    "# [2020-12-29 09:11:32,520 INFO] Loading train dataset from ../bert_data/bert_data_xsum/xsum.train.79.bert.pt, number of examples: 1988\n",
    "# [2020-12-29 09:15:16,553 INFO] Step 3000/200000; acc:  34.95; ppl: 30.38; xent: 3.41; lr: 0.00000212;   0/190 tok/s;   6327 sec\n",
    "# [2020-12-29 09:15:16,558 INFO] Saving checkpoint ../models/xsum/model_step_3000.pt\n",
    "# [2020-12-29 09:15:56,651 INFO] Loading train dataset from ../bert_data/bert_data_xsum/xsum.train.86.bert.pt, number of examples: 1994\n",
    "# [2020-12-29 09:19:43,743 INFO] Loading train dataset from ../bert_data/bert_data_xsum/xsum.train.56.bert.pt, number of examples: 1989\n",
    "# [2020-12-29 09:23:31,080 INFO] Loading train dataset from ../bert_data/bert_data_xsum/xsum.train.87.bert.pt, number of examples: 1994\n",
    "# [2020-12-29 09:27:20,250 INFO] Loading train dataset from ../bert_data/bert_data_xsum/xsum.train.16.bert.pt, number of examples: 1994\n",
    "# [2020-12-29 09:31:07,185 INFO] Loading train dataset from ../bert_data/bert_data_xsum/xsum.train.48.bert.pt, number of examples: 1990\n",
    "# [2020-12-29 09:34:53,183 INFO] Loading train dataset from ../bert_data/bert_data_xsum/xsum.train.68.bert.pt, number of examples: 1991\n",
    "# [2020-12-29 09:36:05,516 INFO] Step 3500/200000; acc:  36.90; ppl: 24.83; xent: 3.21; lr: 0.00000247;   0/262 tok/s;   7576 sec\n",
    "# [2020-12-29 09:38:38,773 INFO] Loading train dataset from ../bert_data/bert_data_xsum/xsum.train.91.bert.pt, number of examples: 1990\n",
    "# [2020-12-29 09:42:27,375 INFO] Loading train dataset from ../bert_data/bert_data_xsum/xsum.train.29.bert.pt, number of examples: 1993\n",
    "# [2020-12-29 09:46:14,048 INFO] Loading train dataset from ../bert_data/bert_data_xsum/xsum.train.75.bert.pt, number of examples: 1992\n",
    "# [2020-12-29 09:49:58,737 INFO] Loading train dataset from ../bert_data/bert_data_xsum/xsum.train.90.bert.pt, number of examples: 1991\n",
    "# [2020-12-29 09:53:44,190 INFO] Loading train dataset from ../bert_data/bert_data_xsum/xsum.train.76.bert.pt, number of examples: 1995\n",
    "# [2020-12-29 09:56:25,556 INFO] Step 4000/200000; acc:  32.75; ppl: 33.49; xent: 3.51; lr: 0.00000283;   0/257 tok/s;   8796 sec\n",
    "# [2020-12-29 09:57:32,223 INFO] Loading train dataset from ../bert_data/bert_data_xsum/xsum.train.30.bert.pt, number of examples: 1993\n",
    "# [2020-12-29 10:01:20,065 INFO] Loading train dataset from ../bert_data/bert_data_xsum/xsum.train.13.bert.pt, number of examples: 1992\n",
    "# [2020-12-29 10:05:07,507 INFO] Loading train dataset from ../bert_data/bert_data_xsum/xsum.train.34.bert.pt, number of examples: 1991\n",
    "# [2020-12-29 10:08:53,116 INFO] Loading train dataset from ../bert_data/bert_data_xsum/xsum.train.54.bert.pt, number of examples: 1986\n",
    "# [2020-12-29 10:12:42,655 INFO] Loading train dataset from ../bert_data/bert_data_xsum/xsum.train.36.bert.pt, number of examples: 1993\n",
    "# [2020-12-29 10:16:32,494 INFO] Loading train dataset from ../bert_data/bert_data_xsum/xsum.train.97.bert.pt, number of examples: 1986\n",
    "# [2020-12-29 10:16:48,783 INFO] Step 4500/200000; acc:  36.26; ppl: 30.32; xent: 3.41; lr: 0.00000318;   0/206 tok/s;  10019 sec\n",
    "# [2020-12-29 10:20:15,938 INFO] Loading train dataset from ../bert_data/bert_data_xsum/xsum.train.49.bert.pt, number of examples: 1997\n",
    "# [2020-12-29 10:24:04,101 INFO] Loading train dataset from ../bert_data/bert_data_xsum/xsum.train.69.bert.pt, number of examples: 1993\n",
    "# [2020-12-29 10:27:51,651 INFO] Loading train dataset from ../bert_data/bert_data_xsum/xsum.train.58.bert.pt, number of examples: 1990\n",
    "# [2020-12-29 10:31:37,002 INFO] Loading train dataset from ../bert_data/bert_data_xsum/xsum.train.32.bert.pt, number of examples: 1994\n",
    "# [2020-12-29 10:35:26,565 INFO] Loading train dataset from ../bert_data/bert_data_xsum/xsum.train.19.bert.pt, number of examples: 1996\n",
    "# [2020-12-29 10:37:07,897 INFO] Step 5000/200000; acc:  33.61; ppl: 34.70; xent: 3.55; lr: 0.00000354;   0/242 tok/s;  11238 sec\n",
    "# [2020-12-29 10:39:13,380 INFO] Loading train dataset from ../bert_data/bert_data_xsum/xsum.train.83.bert.pt, number of examples: 1991\n",
    "# [2020-12-29 10:43:00,653 INFO] Loading train dataset from ../bert_data/bert_data_xsum/xsum.train.33.bert.pt, number of examples: 1991\n",
    "# [2020-12-29 10:46:45,845 INFO] Loading train dataset from ../bert_data/bert_data_xsum/xsum.train.71.bert.pt, number of examples: 1990\n",
    "# [2020-12-29 10:50:36,802 INFO] Loading train dataset from ../bert_data/bert_data_xsum/xsum.train.59.bert.pt, number of examples: 1990\n",
    "# [2020-12-29 10:54:23,982 INFO] Loading train dataset from ../bert_data/bert_data_xsum/xsum.train.98.bert.pt, number of examples: 1991\n",
    "# [2020-12-29 10:57:31,216 INFO] Step 5500/200000; acc:  37.86; ppl: 23.22; xent: 3.15; lr: 0.00000389;   0/280 tok/s;  12462 sec\n",
    "# [2020-12-29 10:58:10,059 INFO] Loading train dataset from ../bert_data/bert_data_xsum/xsum.train.28.bert.pt, number of examples: 1996\n",
    "# [2020-12-29 11:01:59,428 INFO] Loading train dataset from ../bert_data/bert_data_xsum/xsum.train.66.bert.pt, number of examples: 1993\n",
    "# [2020-12-29 11:05:42,843 INFO] Loading train dataset from ../bert_data/bert_data_xsum/xsum.train.92.bert.pt, number of examples: 1991\n",
    "# [2020-12-29 11:09:28,992 INFO] Loading train dataset from ../bert_data/bert_data_xsum/xsum.train.0.bert.pt, number of examples: 1992\n",
    "# [2020-12-29 11:13:16,715 INFO] Loading train dataset from ../bert_data/bert_data_xsum/xsum.train.63.bert.pt, number of examples: 1988\n",
    "# [2020-12-29 11:17:02,830 INFO] Loading train dataset from ../bert_data/bert_data_xsum/xsum.train.85.bert.pt, number of examples: 1991\n",
    "# [2020-12-29 11:17:50,018 INFO] Step 6000/200000; acc:  33.81; ppl: 32.83; xent: 3.49; lr: 0.00000424;   0/243 tok/s;  13681 sec\n",
    "# [2020-12-29 11:17:50,024 INFO] Saving checkpoint ../models/xsum/model_step_6000.pt\n",
    "# [2020-12-29 11:21:16,617 INFO] Loading train dataset from ../bert_data/bert_data_xsum/xsum.train.73.bert.pt, number of examples: 1991\n",
    "# [2020-12-29 11:25:04,513 INFO] Loading train dataset from ../bert_data/bert_data_xsum/xsum.train.84.bert.pt, number of examples: 1990\n",
    "# [2020-12-29 11:28:48,870 INFO] Loading train dataset from ../bert_data/bert_data_xsum/xsum.train.89.bert.pt, number of examples: 1988\n",
    "# [2020-12-29 11:32:35,894 INFO] Loading train dataset from ../bert_data/bert_data_xsum/xsum.train.94.bert.pt, number of examples: 1991\n",
    "# [2020-12-29 11:36:17,805 INFO] Loading train dataset from ../bert_data/bert_data_xsum/xsum.train.82.bert.pt, number of examples: 1993\n",
    "# [2020-12-29 11:38:35,253 INFO] Step 6500/200000; acc:  33.80; ppl: 32.30; xent: 3.48; lr: 0.00000460;   0/224 tok/s;  14926 sec\n",
    "# [2020-12-29 11:40:08,140 INFO] Loading train dataset from ../bert_data/bert_data_xsum/xsum.train.21.bert.pt, number of examples: 1988\n",
    "# [2020-12-29 11:43:50,792 INFO] Loading train dataset from ../bert_data/bert_data_xsum/xsum.train.11.bert.pt, number of examples: 1994\n",
    "# [2020-12-29 11:47:35,355 INFO] Loading train dataset from ../bert_data/bert_data_xsum/xsum.train.31.bert.pt, number of examples: 1990\n",
    "# [2020-12-29 11:51:21,997 INFO] Loading train dataset from ../bert_data/bert_data_xsum/xsum.train.42.bert.pt, number of examples: 1995\n",
    "# [2020-12-29 11:55:06,405 INFO] Loading train dataset from ../bert_data/bert_data_xsum/xsum.train.17.bert.pt, number of examples: 1989\n",
    "# [2020-12-29 11:58:46,789 INFO] Step 7000/200000; acc:  35.42; ppl: 25.76; xent: 3.25; lr: 0.00000495;   0/263 tok/s;  16137 sec\n",
    "# [2020-12-29 11:58:57,284 INFO] Loading train dataset from ../bert_data/bert_data_xsum/xsum.train.67.bert.pt, number of examples: 1996\n",
    "# [2020-12-29 12:02:45,822 INFO] Loading train dataset from ../bert_data/bert_data_xsum/xsum.train.96.bert.pt, number of examples: 1994\n",
    "# [2020-12-29 12:06:33,195 INFO] Loading train dataset from ../bert_data/bert_data_xsum/xsum.train.5.bert.pt, number of examples: 1990\n",
    "# [2020-12-29 12:10:19,837 INFO] Loading train dataset from ../bert_data/bert_data_xsum/xsum.train.55.bert.pt, number of examples: 1990\n",
    "# [2020-12-29 12:14:04,406 INFO] Loading train dataset from ../bert_data/bert_data_xsum/xsum.train.7.bert.pt, number of examples: 1990\n",
    "# [2020-12-29 12:17:51,345 INFO] Loading train dataset from ../bert_data/bert_data_xsum/xsum.train.80.bert.pt, number of examples: 1985\n",
    "# [2020-12-29 12:19:03,538 INFO] Step 7500/200000; acc:  39.24; ppl: 23.26; xent: 3.15; lr: 0.00000530;   0/238 tok/s;  17354 sec\n",
    "# [2020-12-29 12:21:37,945 INFO] Loading train dataset from ../bert_data/bert_data_xsum/xsum.train.26.bert.pt, number of examples: 1991\n",
    "# [2020-12-29 12:25:23,619 INFO] Loading train dataset from ../bert_data/bert_data_xsum/xsum.train.24.bert.pt, number of examples: 1996\n",
    "# [2020-12-29 12:29:08,752 INFO] Loading train dataset from ../bert_data/bert_data_xsum/xsum.train.41.bert.pt, number of examples: 1994\n",
    "# [2020-12-29 12:32:54,726 INFO] Loading train dataset from ../bert_data/bert_data_xsum/xsum.train.18.bert.pt, number of examples: 1992\n",
    "# [2020-12-29 12:36:42,510 INFO] Loading train dataset from ../bert_data/bert_data_xsum/xsum.train.38.bert.pt, number of examples: 1993\n",
    "# [2020-12-29 12:39:20,893 INFO] Step 8000/200000; acc:  35.88; ppl: 32.32; xent: 3.48; lr: 0.00000566;   0/255 tok/s;  18571 sec\n",
    "# [2020-12-29 12:40:29,317 INFO] Loading train dataset from ../bert_data/bert_data_xsum/xsum.train.2.bert.pt, number of examples: 1989\n",
    "# [2020-12-29 12:44:09,854 INFO] Loading train dataset from ../bert_data/bert_data_xsum/xsum.train.10.bert.pt, number of examples: 1992\n",
    "# [2020-12-29 12:47:52,632 INFO] Loading train dataset from ../bert_data/bert_data_xsum/xsum.train.35.bert.pt, number of examples: 1995\n",
    "# [2020-12-29 12:51:39,407 INFO] Loading train dataset from ../bert_data/bert_data_xsum/xsum.train.74.bert.pt, number of examples: 1984\n",
    "# [2020-12-29 12:55:24,671 INFO] Loading train dataset from ../bert_data/bert_data_xsum/xsum.train.60.bert.pt, number of examples: 1990\n",
    "# [2020-12-29 12:59:10,224 INFO] Loading train dataset from ../bert_data/bert_data_xsum/xsum.train.8.bert.pt, number of examples: 1984\n",
    "# [2020-12-29 12:59:32,366 INFO] Step 8500/200000; acc:  31.26; ppl: 30.13; xent: 3.41; lr: 0.00000601;   0/182 tok/s;  19783 sec\n",
    "# [2020-12-29 13:02:59,238 INFO] Loading train dataset from ../bert_data/bert_data_xsum/xsum.train.51.bert.pt, number of examples: 1988\n",
    "# [2020-12-29 13:06:48,470 INFO] Loading train dataset from ../bert_data/bert_data_xsum/xsum.train.23.bert.pt, number of examples: 1993\n",
    "# [2020-12-29 13:10:38,500 INFO] Loading train dataset from ../bert_data/bert_data_xsum/xsum.train.12.bert.pt, number of examples: 1991\n",
    "# [2020-12-29 13:14:30,637 INFO] Loading train dataset from ../bert_data/bert_data_xsum/xsum.train.20.bert.pt, number of examples: 1995\n",
    "# [2020-12-29 13:18:18,295 INFO] Loading train dataset from ../bert_data/bert_data_xsum/xsum.train.45.bert.pt, number of examples: 1991\n",
    "# [2020-12-29 13:19:56,366 INFO] Step 9000/200000; acc:  35.94; ppl: 22.93; xent: 3.13; lr: 0.00000636;   0/205 tok/s;  21007 sec\n",
    "# [2020-12-29 13:19:56,371 INFO] Saving checkpoint ../models/xsum/model_step_9000.pt\n",
    "# [2020-12-29 13:22:38,638 INFO] Loading train dataset from ../bert_data/bert_data_xsum/xsum.train.9.bert.pt, number of examples: 1993\n",
    "# [2020-12-29 13:26:26,927 INFO] Loading train dataset from ../bert_data/bert_data_xsum/xsum.train.93.bert.pt, number of examples: 1991\n",
    "# [2020-12-29 13:30:07,067 INFO] Loading train dataset from ../bert_data/bert_data_xsum/xsum.train.70.bert.pt, number of examples: 1992\n",
    "# [2020-12-29 13:33:55,808 INFO] Loading train dataset from ../bert_data/bert_data_xsum/xsum.train.1.bert.pt, number of examples: 1985\n",
    "# [2020-12-29 13:37:41,412 INFO] Loading train dataset from ../bert_data/bert_data_xsum/xsum.train.65.bert.pt, number of examples: 1992\n",
    "# [2020-12-29 13:40:42,387 INFO] Step 9500/200000; acc:  34.41; ppl: 30.19; xent: 3.41; lr: 0.00000672;   0/242 tok/s;  22253 sec\n",
    "# [2020-12-29 13:41:33,548 INFO] Loading train dataset from ../bert_data/bert_data_xsum/xsum.train.4.bert.pt, number of examples: 1989\n",
    "# [2020-12-29 13:45:21,623 INFO] Loading train dataset from ../bert_data/bert_data_xsum/xsum.train.57.bert.pt, number of examples: 1992\n",
    "# [2020-12-29 13:49:06,007 INFO] Loading train dataset from ../bert_data/bert_data_xsum/xsum.train.50.bert.pt, number of examples: 1994\n",
    "# [2020-12-29 13:52:55,078 INFO] Loading train dataset from ../bert_data/bert_data_xsum/xsum.train.6.bert.pt, number of examples: 1988\n",
    "# [2020-12-29 13:56:41,220 INFO] Loading train dataset from ../bert_data/bert_data_xsum/xsum.train.85.bert.pt, number of examples: 1991\n",
    "# [2020-12-29 14:00:23,452 INFO] Loading train dataset from ../bert_data/bert_data_xsum/xsum.train.89.bert.pt, number of examples: 1988\n",
    "# [2020-12-29 14:00:56,348 INFO] Step 10000/200000; acc:  34.89; ppl: 19.64; xent: 2.98; lr: 0.00000707;   0/223 tok/s;  23467 sec\n",
    "# [2020-12-29 14:04:09,569 INFO] Loading train dataset from ../bert_data/bert_data_xsum/xsum.train.46.bert.pt, number of examples: 1994\n",
    "# [2020-12-29 14:07:53,553 INFO] Loading train dataset from ../bert_data/bert_data_xsum/xsum.train.16.bert.pt, number of examples: 1994\n",
    "# [2020-12-29 14:11:39,553 INFO] Loading train dataset from ../bert_data/bert_data_xsum/xsum.train.45.bert.pt, number of examples: 1991\n",
    "# [2020-12-29 14:15:28,625 INFO] Loading train dataset from ../bert_data/bert_data_xsum/xsum.train.90.bert.pt, number of examples: 1991\n",
    "# [2020-12-29 14:19:15,984 INFO] Loading train dataset from ../bert_data/bert_data_xsum/xsum.train.95.bert.pt, number of examples: 1994\n",
    "# [2020-12-29 14:21:10,159 INFO] Step 10500/200000; acc:  41.60; ppl: 20.70; xent: 3.03; lr: 0.00000742;   0/244 tok/s;  24681 sec\n",
    "# [2020-12-29 14:22:56,342 INFO] Loading train dataset from ../bert_data/bert_data_xsum/xsum.train.99.bert.pt, number of examples: 1991\n",
    "# [2020-12-29 14:26:37,296 INFO] Loading train dataset from ../bert_data/bert_data_xsum/xsum.train.40.bert.pt, number of examples: 1990\n",
    "# [2020-12-29 14:30:23,907 INFO] Loading train dataset from ../bert_data/bert_data_xsum/xsum.train.22.bert.pt, number of examples: 1992\n",
    "# [2020-12-29 14:34:13,394 INFO] Loading train dataset from ../bert_data/bert_data_xsum/xsum.train.88.bert.pt, number of examples: 1988\n",
    "# [2020-12-29 14:38:02,117 INFO] Loading train dataset from ../bert_data/bert_data_xsum/xsum.train.75.bert.pt, number of examples: 1992\n",
    "# [2020-12-29 14:41:24,616 INFO] Step 11000/200000; acc:  34.95; ppl: 30.68; xent: 3.42; lr: 0.00000778;   0/270 tok/s;  25895 sec\n",
    "# [2020-12-29 14:41:45,677 INFO] Loading train dataset from ../bert_data/bert_data_xsum/xsum.train.50.bert.pt, number of examples: 1994\n",
    "# [2020-12-29 14:45:33,276 INFO] Loading train dataset from ../bert_data/bert_data_xsum/xsum.train.47.bert.pt, number of examples: 1988\n",
    "# [2020-12-29 14:49:18,147 INFO] Loading train dataset from ../bert_data/bert_data_xsum/xsum.train.38.bert.pt, number of examples: 1993\n",
    "# [2020-12-29 14:53:04,282 INFO] Loading train dataset from ../bert_data/bert_data_xsum/xsum.train.87.bert.pt, number of examples: 1994\n",
    "# [2020-12-29 14:56:50,902 INFO] Loading train dataset from ../bert_data/bert_data_xsum/xsum.train.79.bert.pt, number of examples: 1988\n",
    "# [2020-12-29 15:00:42,563 INFO] Loading train dataset from ../bert_data/bert_data_xsum/xsum.train.78.bert.pt, number of examples: 1987\n",
    "# [2020-12-29 15:01:48,083 INFO] Step 11500/200000; acc:  40.13; ppl: 20.22; xent: 3.01; lr: 0.00000813;   0/230 tok/s;  27119 sec\n",
    "# [2020-12-29 15:04:29,842 INFO] Loading train dataset from ../bert_data/bert_data_xsum/xsum.train.65.bert.pt, number of examples: 1992\n",
    "# [2020-12-29 15:08:19,511 INFO] Loading train dataset from ../bert_data/bert_data_xsum/xsum.train.30.bert.pt, number of examples: 1993\n",
    "# [2020-12-29 15:12:07,706 INFO] Loading train dataset from ../bert_data/bert_data_xsum/xsum.train.25.bert.pt, number of examples: 1992\n",
    "# [2020-12-29 15:15:55,282 INFO] Loading train dataset from ../bert_data/bert_data_xsum/xsum.train.52.bert.pt, number of examples: 1989\n",
    "# [2020-12-29 15:19:46,343 INFO] Loading train dataset from ../bert_data/bert_data_xsum/xsum.train.9.bert.pt, number of examples: 1993\n",
    "# [2020-12-29 15:22:14,721 INFO] Step 12000/200000; acc:  38.73; ppl: 20.36; xent: 3.01; lr: 0.00000849;   0/287 tok/s;  28345 sec\n",
    "# [2020-12-29 15:22:14,726 INFO] Saving checkpoint ../models/xsum/model_step_12000.pt\n",
    "# [2020-12-29 15:24:01,714 INFO] Loading train dataset from ../bert_data/bert_data_xsum/xsum.train.82.bert.pt, number of examples: 1993\n",
    "# [2020-12-29 15:27:49,372 INFO] Loading train dataset from ../bert_data/bert_data_xsum/xsum.train.41.bert.pt, number of examples: 1994"
   ],
   "metadata": {
    "collapsed": false,
    "pycharm": {
     "name": "#%%\n"
    }
   }
  },
  {
   "cell_type": "code",
   "execution_count": null,
   "outputs": [],
   "source": [
    "    # -neptune_exp_tags []\n",
    "    # -neptune_prj_name bzhao271828/PreSum-Abs\n",
    "    # -neptune_exp_name PreSumAbs-Exp\n",
    "    # -neptune_metric_interval 50"
   ],
   "metadata": {
    "collapsed": false,
    "pycharm": {
     "name": "#%%\n"
    }
   }
  },
  {
   "cell_type": "code",
   "execution_count": null,
   "outputs": [],
   "source": [],
   "metadata": {
    "collapsed": false,
    "pycharm": {
     "name": "#%%\n"
    }
   }
  },
  {
   "cell_type": "code",
   "execution_count": null,
   "outputs": [],
   "source": [
    "! python train.py  -task abs -mode train -bert_data_path ../bert_data/bert_data_xsum/xsum -dec_dropout 0.2 -train_from ../models/xsum/model_step_12100.pt -model_path ../models/xsum -sep_optim true -lr_bert 0.002 -lr_dec 0.2 -save_checkpoint_steps 1000 -batch_size 140 -train_steps 200000 -report_every 100 -log_stat_params 100 -accum_count 5 -use_bert_emb true -use_interval true -warmup_steps_bert 20000 -warmup_steps_dec 10000 -max_pos 512 -visible_gpus 0  -log_file ../logs/abs_bert_xsum -neptune_prj_name bzhao271828/PreSum-Abs -neptune_exp_name PreSumAbs-Exp -neptune_metric_interval 50\n"
   ],
   "metadata": {
    "collapsed": false,
    "pycharm": {
     "name": "#%%\n"
    }
   }
  },
  {
   "cell_type": "markdown",
   "source": [
    "# Train 2020 12 29"
   ],
   "metadata": {
    "collapsed": false
   }
  },
  {
   "cell_type": "code",
   "execution_count": null,
   "outputs": [],
   "source": [
    "! python train.py  -task abs -mode train -bert_data_path ../bert_data/bert_data_xsum/xsum -dec_dropout 0.2 -train_from ../models/xsum/model_step_13000.pt -model_path ../models/xsum -sep_optim true -lr_bert 0.002 -lr_dec 0.2 -save_checkpoint_steps 3000 -batch_size 140 -train_steps 200000 -report_every 1000 -log_stat_params 3000 -accum_count 5 -use_bert_emb true -use_interval true -warmup_steps_bert 20000 -warmup_steps_dec 10000 -max_pos 512 -visible_gpus 0  -log_file ../logs/abs_bert_xsum -neptune_prj_name bzhao271828/PreSum-Abs -neptune_exp_name PreSumAbs-Exp -neptune_metric_interval 300\n"
   ],
   "metadata": {
    "collapsed": false,
    "pycharm": {
     "name": "#%%\n"
    }
   }
  },
  {
   "cell_type": "code",
   "execution_count": null,
   "outputs": [],
   "source": [
    "! python train.py  -task abs -mode train -bert_data_path ../bert_data/bert_data_xsum/xsum -dec_dropout 0.2 -train_from ../models/xsum/model_step_15000.pt -model_path ../models/xsum -sep_optim true -lr_bert 0.002 -lr_dec 0.2 -save_checkpoint_steps 4000 -batch_size 140 -train_steps 200000 -report_every 1000 -log_stat_params 1000 -accum_count 5 -use_bert_emb true -use_interval true -warmup_steps_bert 20000 -warmup_steps_dec 10000 -max_pos 512 -visible_gpus 0  -log_file ../logs/abs_bert_xsum -neptune_prj_name bzhao271828/PreSum-Abs -neptune_exp_name PreSumAbs-Exp -neptune_metric_interval 300\n"
   ],
   "metadata": {
    "collapsed": false,
    "pycharm": {
     "name": "#%%\n"
    }
   }
  }
 ]
}