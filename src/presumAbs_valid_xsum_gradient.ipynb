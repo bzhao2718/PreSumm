{
 "nbformat": 4,
 "nbformat_minor": 0,
 "metadata": {
  "colab": {
   "name": "presumAbs_train_xsum.ipynb",
   "provenance": []
  },
  "kernelspec": {
   "name": "python3",
   "display_name": "Python 3"
  },
  "accelerator": "GPU"
 },
 "cells": [
  {
   "cell_type": "code",
   "execution_count": null,
   "outputs": [],
   "source": [
    "import torch\n",
    "import os\n"
   ],
   "metadata": {
    "collapsed": false,
    "pycharm": {
     "name": "#%%\n"
    }
   }
  },
  {
   "cell_type": "code",
   "execution_count": null,
   "outputs": [],
   "source": [
    "device = torch.device('cuda' if torch.cuda.is_available() else 'cpu')\n",
    "device"
   ],
   "metadata": {
    "collapsed": false,
    "pycharm": {
     "name": "#%%\n"
    }
   }
  },
  {
   "cell_type": "code",
   "execution_count": null,
   "outputs": [],
   "source": [
    "gpu_id = torch.cuda.current_device()\n",
    "gpu_id"
   ],
   "metadata": {
    "collapsed": false,
    "pycharm": {
     "name": "#%%\n"
    }
   }
  },
  {
   "cell_type": "code",
   "execution_count": null,
   "outputs": [],
   "source": [
    "gpu_info = !nvidia-smi\n",
    "gpu_info = '\\n'.join(gpu_info)\n",
    "if gpu_info.find('failed') >= 0:\n",
    "  print('Select the Runtime > \"Change runtime type\" menu to enable a GPU accelerator, ')\n",
    "  print('and then re-execute this cell.')\n",
    "else:\n",
    "  print(gpu_info)"
   ],
   "metadata": {
    "collapsed": false,
    "pycharm": {
     "name": "#%%\n"
    }
   }
  },
  {
   "cell_type": "code",
   "execution_count": null,
   "outputs": [],
   "source": [
    "# from psutil import virtual_memory\n",
    "# ram_gb = virtual_memory().total / 1e9\n",
    "# print('Your runtime has {:.1f} gigabytes of available RAM\\n'.format(ram_gb))\n",
    "#\n",
    "# if ram_gb < 20:\n",
    "#   print('To enable a high-RAM runtime, select the Runtime > \"Change runtime type\"')\n",
    "#   print('menu, and then select High-RAM in the Runtime shape dropdown. Then, ')\n",
    "#   print('re-execute this cell.')\n",
    "# else:\n",
    "#   print('You are using a high-RAM runtime!')"
   ],
   "metadata": {
    "collapsed": false,
    "pycharm": {
     "name": "#%%\n"
    }
   }
  },
  {
   "cell_type": "code",
   "execution_count": null,
   "outputs": [],
   "source": [
    "# from google.colab import drive # mount the drive, so save the data to the Google drive\n",
    "# drive.mount('/content/drive')"
   ],
   "metadata": {
    "collapsed": false,
    "pycharm": {
     "name": "#%%\n"
    }
   }
  },
  {
   "cell_type": "code",
   "execution_count": null,
   "outputs": [],
   "source": [
    "def create_dir(dir:str):\n",
    "  if not os.path.exists(dir):\n",
    "    os.makedirs(dir, exist_ok=True)\n",
    "\n",
    "def is_dir_exist(dir:str):\n",
    "  return os.path.exists(dir)"
   ],
   "metadata": {
    "collapsed": false,
    "pycharm": {
     "name": "#%%\n"
    }
   }
  },
  {
   "cell_type": "code",
   "execution_count": null,
   "outputs": [],
   "source": [
    "# cwd = os.getcwd()\n",
    "# print(cwd)\n",
    "def print_cwd():\n",
    "  cwd = os.getcwd()\n",
    "  print(cwd)"
   ],
   "metadata": {
    "collapsed": false,
    "pycharm": {
     "name": "#%%\n"
    }
   }
  },
  {
   "cell_type": "code",
   "execution_count": null,
   "outputs": [],
   "source": [
    "! ls"
   ],
   "metadata": {
    "collapsed": false,
    "pycharm": {
     "name": "#%%\n"
    }
   }
  },
  {
   "cell_type": "code",
   "execution_count": null,
   "outputs": [],
   "source": [
    "! pip install --upgrade pip"
   ],
   "metadata": {
    "collapsed": false,
    "pycharm": {
     "name": "#%%\n"
    }
   }
  },
  {
   "cell_type": "code",
   "execution_count": null,
   "outputs": [],
   "source": [
    "# import and install libs\n",
    "! pip install pytorch-transformers"
   ],
   "metadata": {
    "collapsed": false,
    "pycharm": {
     "name": "#%%\n"
    }
   }
  },
  {
   "cell_type": "code",
   "execution_count": null,
   "outputs": [],
   "source": [
    "! pip install tensorboardX"
   ],
   "metadata": {
    "collapsed": false,
    "pycharm": {
     "name": "#%%\n"
    }
   }
  },
  {
   "cell_type": "code",
   "execution_count": null,
   "outputs": [],
   "source": [
    "! pip install neptune-client\n"
   ],
   "metadata": {
    "collapsed": false,
    "pycharm": {
     "name": "#%%\n"
    }
   }
  },
  {
   "cell_type": "markdown",
   "source": [
    "# Train and Evaluate the model\n"
   ],
   "metadata": {
    "collapsed": false
   }
  },
  {
   "cell_type": "code",
   "execution_count": null,
   "outputs": [],
   "source": [
    "# print_cwd()\n",
    "# the dir will be the cwd, where the notebook is running"
   ],
   "metadata": {
    "collapsed": false,
    "pycharm": {
     "name": "#%%\n"
    }
   }
  },
  {
   "cell_type": "code",
   "execution_count": null,
   "outputs": [],
   "source": [
    "# report and save every 5 step, CPU\n",
    "# ! python train.py  -task abs -mode train -bert_data_path ../bert_data/bert_data_xsum/xsum -dec_dropout 0.2  -model_path ../models/xsum -sep_optim true -lr_bert 0.002 -lr_dec 0.2 -save_checkpoint_steps 5 -batch_size 140 -train_steps 200000 -report_every 5 -accum_count 5 -use_bert_emb true -use_interval true -warmup_steps_bert 20000 -warmup_steps_dec 10000 -max_pos 512 -visible_gpus -1  -log_file ../logs/abs_bert_xsum\n",
    "\n",
    "# report every step and save every 2 steps, CPU\n",
    "# ! python train.py  -task abs -mode train -bert_data_path ../bert_data/bert_data_xsum/xsum -dec_dropout 0.2  -model_path ../models/xsum -sep_optim true -lr_bert 0.002 -lr_dec 0.2 -save_checkpoint_steps 2 -batch_size 140 -train_steps 200000 -report_every 1 -accum_count 5 -use_bert_emb true -use_interval true -warmup_steps_bert 20000 -warmup_steps_dec 10000 -max_pos 512 -visible_gpus -1  -log_file ../logs/abs_bert_xsum\n",
    "\n",
    "# train on gpu set --gpu 1\n",
    "# ! python train.py  -task abs -mode train -bert_data_path ../bert_data/bert_data_xsum/xsum -dec_dropout 0.2  -model_path ../models/xsum -sep_optim true -lr_bert 0.002 -lr_dec 0.2 -save_checkpoint_steps 2 -batch_size 140 -train_steps 200000 -report_every 1 -accum_count 5 -use_bert_emb true -use_interval true -warmup_steps_bert 20000 -warmup_steps_dec 10000 -max_pos 512 -visible_gpus 0  -log_file ../logs/abs_bert_xsum\n",
    "# report every 10, save every 100\n",
    "# ! python train.py  -task abs -mode train -bert_data_path ../bert_data/bert_data_xsum/xsum -dec_dropout 0.2  -model_path ../models/xsum -sep_optim true -lr_bert 0.002 -lr_dec 0.2 -save_checkpoint_steps 2 -batch_size 140 -train_steps 200000 -report_every 1 -accum_count 5 -use_bert_emb true -use_interval true -warmup_steps_bert 20000 -warmup_steps_dec 10000 -max_pos 512 -visible_gpus 0  -log_file ../logs/abs_bert_xsum\n",
    "\n",
    "# add this arg when training with checkpoint: -train_from ../models/xsum/model_step_10.pt\n"
   ],
   "metadata": {
    "collapsed": false,
    "pycharm": {
     "name": "#%%\n"
    }
   }
  },
  {
   "cell_type": "code",
   "execution_count": null,
   "outputs": [],
   "source": [
    "! git branch\n",
    "\n",
    "# ! ls"
   ],
   "metadata": {
    "collapsed": false,
    "pycharm": {
     "name": "#%%\n"
    }
   }
  },
  {
   "cell_type": "code",
   "execution_count": null,
   "outputs": [],
   "source": [
    "# # train save checkpoint every 400, log stats params and print out every 100 steps\n",
    "# # The first time running\n",
    "# ! python train.py  -task abs -mode train -bert_data_path ../bert_data/bert_data_xsum/xsum -dec_dropout 0.2  -model_path ../models/xsum -sep_optim true -lr_bert 0.002 -lr_dec 0.2 -save_checkpoint_steps 400 -batch_size 140 -train_steps 200000 -report_every 100 -log_stat_params 100 -accum_count 5 -use_bert_emb true -use_interval true -warmup_steps_bert 20000 -warmup_steps_dec 10000 -max_pos 512 -visible_gpus 0  -log_file ../logs/abs_bert_xsum\n"
   ],
   "metadata": {
    "collapsed": false,
    "pycharm": {
     "name": "#%%\n"
    }
   }
  },
  {
   "cell_type": "code",
   "execution_count": null,
   "outputs": [],
   "source": [
    "# train save checkpoint every 400, log stats params and print out every 100 steps\n",
    "# Second time running, use the saved checkpoint 400\n",
    "! python train.py  -task abs -mode train -bert_data_path ../bert_data/bert_data_xsum/xsum -dec_dropout 0.2 -train_from ../models/xsum/model_step_400.pt -model_path ../models/xsum -sep_optim true -lr_bert 0.002 -lr_dec 0.2 -save_checkpoint_steps 3000 -batch_size 140 -train_steps 200000 -report_every 500 -log_stat_params 1000 -accum_count 5 -use_bert_emb true -use_interval true -warmup_steps_bert 20000 -warmup_steps_dec 10000 -max_pos 512 -visible_gpus 0  -log_file ../logs/abs_bert_xsum\n",
    "# /content/drive/MyDrive/GoogleDrive/MyRepo/PreSumm/models/xsum/model_step_400.pt"
   ],
   "metadata": {
    "collapsed": false,
    "pycharm": {
     "name": "#%%\n"
    }
   }
  },
  {
   "cell_type": "code",
   "execution_count": null,
   "outputs": [],
   "source": [
    "    # -neptune_exp_tags []\n",
    "    # -neptune_prj_name bzhao271828/PreSum-Abs\n",
    "    # -neptune_exp_name PreSumAbs-Exp\n",
    "    # -neptune_metric_interval 50\n"
   ],
   "metadata": {
    "collapsed": false,
    "pycharm": {
     "name": "#%%\n"
    }
   }
  },
  {
   "cell_type": "code",
   "execution_count": null,
   "outputs": [],
   "source": [
    "! python train.py  -task abs -mode train -bert_data_path ../bert_data/bert_data_xsum/xsum -dec_dropout 0.2 -train_from ../models/xsum/model_step_12100.pt -model_path ../models/xsum -sep_optim true -lr_bert 0.002 -lr_dec 0.2 -save_checkpoint_steps 1000 -batch_size 140 -train_steps 200000 -report_every 100 -log_stat_params 100 -accum_count 5 -use_bert_emb true -use_interval true -warmup_steps_bert 20000 -warmup_steps_dec 10000 -max_pos 512 -visible_gpus 0  -log_file ../logs/abs_bert_xsum -neptune_prj_name bzhao271828/PreSum-Abs -neptune_exp_name PreSumAbs-Exp -neptune_metric_interval 50\n"
   ],
   "metadata": {
    "collapsed": false,
    "pycharm": {
     "name": "#%%\n"
    }
   }
  },
  {
   "cell_type": "markdown",
   "source": [
    "# Validation 2021 12 01"
   ],
   "metadata": {
    "collapsed": false
   }
  },
  {
   "cell_type": "code",
   "execution_count": null,
   "outputs": [],
   "source": [
    " # My validation test, gpu\n",
    " python train.py -task abs -mode validate -batch_size 3000 \\\n",
    " -test_batch_size 500 -bert_data_path ../bert_data/bert_data_xsum/xsum \\\n",
    " -log_file ../logs/validate/val_abs_bert_xsum -model_path ../models/xsum \\\n",
    " -sep_optim true -use_interval true -visible_gpus 0 -max_pos 512 \\\n",
    " -min_length 20 -max_length 100 -alpha 0.9 \\\n",
    " -result_path ../logs/validate/abs_bert_xsum_result"
   ],
   "metadata": {
    "collapsed": false,
    "pycharm": {
     "name": "#%%\n"
    }
   }
  }
 ]
}